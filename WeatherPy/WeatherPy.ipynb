{
 "cells": [
  {
   "cell_type": "markdown",
   "metadata": {},
   "source": [
    "# WeatherPy\n"
   ]
  },
  {
   "cell_type": "code",
   "execution_count": 1,
   "metadata": {},
   "outputs": [],
   "source": [
    "#Observations\n",
    "#1.\n",
    "#2.\n",
    "#3."
   ]
  },
  {
   "cell_type": "code",
   "execution_count": 2,
   "metadata": {},
   "outputs": [
    {
     "name": "stdout",
     "output_type": "stream",
     "text": [
      "Requirement already satisfied: citipy in c:\\users\\jocel\\anaconda3\\lib\\site-packages (0.0.5)\n",
      "Requirement already satisfied: kdtree>=0.12 in c:\\users\\jocel\\anaconda3\\lib\\site-packages (from citipy) (0.16)\n",
      "Note: you may need to restart the kernel to use updated packages.\n"
     ]
    }
   ],
   "source": [
    "pip install citipy"
   ]
  },
  {
   "cell_type": "code",
   "execution_count": 3,
   "metadata": {},
   "outputs": [],
   "source": [
    "#Dependencies\n",
    "import pandas as pd\n",
    "import matplotlib.pyplot as plt\n",
    "import numpy as np\n",
    "import requests\n",
    "import time\n",
    "from scipy.stats import linregress\n",
    "\n",
    "#Import API key\n",
    "from Config import api_key\n",
    "\n",
    "#incorporate citipy to determine city based on latitude and longitude\n",
    "from citipy import citipy\n",
    "\n",
    "#Outout csv file\n",
    "output_data_file = \"output_data/cities.csv\"\n",
    "\n",
    "# Range of latitudes and longitudes\n",
    "lat_range = (-90, 90)\n",
    "long_range = (-180, 180)"
   ]
  },
  {
   "cell_type": "markdown",
   "metadata": {},
   "source": [
    "# List of Cities"
   ]
  },
  {
   "cell_type": "code",
   "execution_count": 4,
   "metadata": {},
   "outputs": [
    {
     "data": {
      "text/plain": [
       "300"
      ]
     },
     "execution_count": 4,
     "metadata": {},
     "output_type": "execute_result"
    }
   ],
   "source": [
    " # List for holding lat_lngs and cities, n is how many cities to generate\n",
    "\n",
    "lat_longs = []\n",
    "cities = []\n",
    "\n",
    "# Create a set of random lat and lng combinations\n",
    "lat = np.random.uniform(low= -90, high= 90, size=600)\n",
    "long = np.random.uniform(low= -90, high= 90, size=600)\n",
    "lat_longs = zip(lat,long)\n",
    "\n",
    "# Identify nearest city for each lat, lng combination\n",
    "for lat_long in lat_longs:\n",
    "    city = citipy.nearest_city(lat_long[0], lat_long[1]).city_name\n",
    "    \n",
    "    # If the city is unique, then add it to a our cities list\n",
    "    if city not in cities:\n",
    "        cities.append(city)\n",
    "\n",
    "# Print the city count to confirm sufficient count\n",
    "len(cities)"
   ]
  },
  {
   "cell_type": "code",
   "execution_count": 5,
   "metadata": {},
   "outputs": [],
   "source": [
    "# Create base URL and indicate imperial units\n",
    "\n",
    "url = \"http://api.openweathermap.org/data/2.5/weather?units=Imperial&APPID=\"+api_key+\"&q=\"\n",
    "units = \"imperial\""
   ]
  },
  {
   "cell_type": "code",
   "execution_count": 6,
   "metadata": {},
   "outputs": [],
   "source": [
    "# Build partial query URL\n",
    "#query = f\"{url}appid={api_key}&units={units}&q=\""
   ]
  },
  {
   "cell_type": "code",
   "execution_count": 7,
   "metadata": {},
   "outputs": [],
   "source": [
    "#values to extract\n",
    "\n",
    "cities_list = []\n",
    "country = []\n",
    "latitude = []\n",
    "longitude = []\n",
    "temperature = []\n",
    "humidity = []\n",
    "cloudiness = []\n",
    "windspeed = []\n",
    "dates = []\n"
   ]
  },
  {
   "cell_type": "code",
   "execution_count": 8,
   "metadata": {
    "scrolled": false
   },
   "outputs": [
    {
     "name": "stdout",
     "output_type": "stream",
     "text": [
      "City not found\n",
      "dingle\n",
      "busselton\n",
      "bengkulu\n",
      "salalah\n",
      "City not found\n",
      "saint-philippe\n",
      "City not found\n",
      "saint george\n",
      "bredasdorp\n",
      "tignere\n",
      "sao joao da barra\n",
      "City not found\n",
      "georgetown\n",
      "abu kamal\n",
      "port alfred\n",
      "morondava\n",
      "alexandria\n",
      "sorland\n",
      "kruisfontein\n",
      "hermanus\n",
      "sioux lookout\n",
      "cape town\n",
      "benicarlo\n",
      "sakakah\n",
      "City not found\n",
      "lebu\n",
      "ushuaia\n",
      "bubaque\n",
      "uige\n",
      "coxim\n",
      "port-gentil\n",
      "chicama\n",
      "ancud\n",
      "nizhnyaya salda\n",
      "aripuana\n",
      "uribia\n",
      "longyearbyen\n",
      "luderitz\n",
      "mar del plata\n",
      "kidal\n",
      "carauari\n",
      "nador\n",
      "faya\n",
      "manjacaze\n",
      "liwale\n",
      "dikson\n",
      "cidreira\n",
      "miraflores\n",
      "qaanaaq\n",
      "puerto carreno\n",
      "san cristobal\n",
      "lagunas\n",
      "mikkeli\n",
      "ponta do sol\n",
      "port elizabeth\n",
      "ostersund\n",
      "trapani\n",
      "salinopolis\n",
      "souillac\n",
      "City not found\n",
      "punta arenas\n",
      "lakshettipet\n",
      "viedma\n",
      "ndele\n",
      "City not found\n",
      "olafsvik\n",
      "tarko-sale\n",
      "cayenne\n",
      "turukhansk\n",
      "newport\n",
      "abu dhabi\n",
      "torbay\n",
      "ilulissat\n",
      "City not found\n",
      "antofagasta\n",
      "vardo\n",
      "east london\n",
      "alcaniz\n",
      "oranjemund\n",
      "City not found\n",
      "contamana\n",
      "touros\n",
      "potsdam\n",
      "tasiilaq\n",
      "City not found\n",
      "kutum\n",
      "kikwit\n",
      "novyy urengoy\n",
      "adrar\n",
      "nampula\n",
      "snezhnogorsk\n",
      "palmerston\n",
      "qaqortoq\n",
      "klaksvik\n",
      "kavaratti\n",
      "radnevo\n",
      "ostrovnoy\n",
      "jamestown\n",
      "City not found\n",
      "diffa\n",
      "emba\n",
      "muros\n",
      "kirkland lake\n",
      "atar\n",
      "kanye\n",
      "boromo\n",
      "domoni\n",
      "bambous virieux\n",
      "betsiamites\n",
      "hualmay\n",
      "tomino\n",
      "nueva italia\n",
      "ribeira grande\n",
      "City not found\n",
      "mehran\n",
      "bathsheba\n",
      "nuuk\n",
      "vieksniai\n",
      "ozieri\n",
      "mancio lima\n",
      "mga\n",
      "bandar-e lengeh\n",
      "grand-lahou\n",
      "sidi ali\n",
      "City not found\n",
      "hithadhoo\n",
      "sorgun\n",
      "mogadishu\n",
      "saint-francois\n",
      "saldanha\n",
      "lieksa\n",
      "mazagao\n",
      "bambui\n",
      "belmonte\n",
      "ventspils\n",
      "saint-pierre\n",
      "raga\n",
      "lagoa\n",
      "khanpur\n",
      "ilhabela\n",
      "rabo de peixe\n",
      "berbera\n",
      "uyemskiy\n",
      "armacao de pera\n",
      "City not found\n",
      "karpathos\n",
      "taoudenni\n",
      "mopipi\n",
      "narsaq\n",
      "grand gaube\n",
      "vestmannaeyjar\n",
      "nanortalik\n",
      "avila\n",
      "brockville\n",
      "praia da vitoria\n",
      "kamenka\n",
      "denia\n",
      "badlapur\n",
      "taraz\n",
      "mottola\n",
      "chuy\n",
      "itarema\n",
      "richards bay\n",
      "chama\n",
      "riohacha\n",
      "sayyan\n",
      "jaguaribe\n",
      "bol\n",
      "korla\n",
      "port hawkesbury\n",
      "santa maria\n",
      "coquimbo\n",
      "bay roberts\n",
      "hambantota\n",
      "City not found\n",
      "arraial do cabo\n",
      "gasa\n",
      "patnagarh\n",
      "meulaboh\n",
      "makokou\n",
      "City not found\n",
      "clyde river\n",
      "zonguldak\n",
      "mweka\n",
      "nouakchott\n",
      "hamilton\n",
      "krasnyy luch\n",
      "cockburn town\n",
      "ondjiva\n",
      "victoria\n",
      "santa fe\n",
      "odweyne\n",
      "bonfim\n",
      "saint anthony\n",
      "novi troyany\n",
      "talara\n",
      "hofn\n",
      "yurimaguas\n",
      "tukrah\n",
      "temiscaming\n",
      "maragogi\n",
      "luanda\n",
      "rio grande\n",
      "necochea\n",
      "saint-joseph\n",
      "monze\n",
      "grindavik\n",
      "kano\n",
      "antigonish\n",
      "robe\n",
      "City not found\n",
      "andenes\n",
      "barcelos\n",
      "maldonado\n",
      "sao felix do xingu\n",
      "margate\n",
      "varkkallai\n",
      "paamiut\n",
      "ladario\n",
      "inndyr\n",
      "geilo\n",
      "carhuaz\n",
      "atraulia\n",
      "rognan\n",
      "kamalapuram\n",
      "mitsamiouli\n",
      "jumla\n",
      "izberbash\n",
      "rawson\n",
      "mattawa\n",
      "constitucion\n",
      "City not found\n",
      "matara\n",
      "havelock\n",
      "City not found\n",
      "City not found\n",
      "kigoma\n",
      "guia de isora\n",
      "umm lajj\n",
      "san joaquin\n",
      "kelme\n",
      "bereda\n",
      "madurai\n",
      "boende\n",
      "tazmalt\n",
      "chinchani\n",
      "rajur\n",
      "alekseyevka\n",
      "puri\n",
      "bandipur\n",
      "cabo rojo\n",
      "City not found\n",
      "vila franca do campo\n",
      "bardiyah\n",
      "sao jose da coroa grande\n",
      "priekule\n",
      "vuktyl\n",
      "tobol\n",
      "oranjestad\n",
      "gazanjyk\n",
      "tiruchchendur\n",
      "varhaug\n",
      "los llanos de aridane\n",
      "caravelas\n",
      "suluq\n",
      "City not found\n",
      "lake city\n",
      "mecca\n",
      "beloha\n",
      "sao filipe\n",
      "sur\n",
      "doha\n",
      "chapais\n",
      "makhalino\n",
      "sunndalsora\n",
      "jalu\n",
      "husavik\n",
      "nalagarh\n",
      "hit\n",
      "liepaja\n",
      "chabahar\n",
      "City not found\n",
      "kostomuksha\n",
      "pitimbu\n",
      "bosaso\n",
      "feijo\n",
      "raudeberg\n",
      "upernavik\n",
      "valdosta\n",
      "presidencia roque saenz pena\n",
      "codrington\n",
      "pavlodar\n",
      "City not found\n",
      "santa rosa\n",
      "jizan\n",
      "thinadhoo\n",
      "eufaula\n",
      "rundu\n",
      "dalbandin\n",
      "\n"
     ]
    }
   ],
   "source": [
    "#Loop to get information for cities\n",
    "from Config import api_key\n",
    "\n",
    "for city in cities:\n",
    "    time.sleep(1)  \n",
    "    url_2 = url + city\n",
    "    response = requests.get(url_2).json()\n",
    "    try:\n",
    "        if response[\"message\"] == \"city not found\":\n",
    "            print(\"City not found\")\n",
    "            \n",
    "    except:\n",
    "        print(city)  \n",
    "        cities_list.append(city)\n",
    "        cloudiness.append(response[\"clouds\"][\"all\"])\n",
    "        country.append(response[\"sys\"][\"country\"])\n",
    "        dates.append(response[\"dt\"])\n",
    "        humidity.append(response[\"main\"][\"humidity\"])\n",
    "        latitude.append(response[\"coord\"][\"lat\"])\n",
    "        longitude.append(response[\"coord\"][\"lon\"])\n",
    "        temperature.append(response[\"main\"][\"temp_max\"])\n",
    "        windspeed.append(response[\"wind\"][\"speed\"])\n",
    "\n",
    "print()"
   ]
  },
  {
   "cell_type": "code",
   "execution_count": 10,
   "metadata": {},
   "outputs": [
    {
     "ename": "FileNotFoundError",
     "evalue": "[Errno 2] No such file or directory: 'output_data/cities.csv'",
     "output_type": "error",
     "traceback": [
      "\u001b[1;31m---------------------------------------------------------------------------\u001b[0m",
      "\u001b[1;31mFileNotFoundError\u001b[0m                         Traceback (most recent call last)",
      "\u001b[1;32m<ipython-input-10-42a122ad912b>\u001b[0m in \u001b[0;36m<module>\u001b[1;34m\u001b[0m\n\u001b[0;32m      5\u001b[0m \u001b[1;33m\u001b[0m\u001b[0m\n\u001b[0;32m      6\u001b[0m \u001b[0mweather\u001b[0m \u001b[1;33m=\u001b[0m \u001b[0mpd\u001b[0m\u001b[1;33m.\u001b[0m\u001b[0mDataFrame\u001b[0m\u001b[1;33m(\u001b[0m\u001b[0mdata\u001b[0m\u001b[1;33m)\u001b[0m\u001b[1;33m\u001b[0m\u001b[1;33m\u001b[0m\u001b[0m\n\u001b[1;32m----> 7\u001b[1;33m \u001b[0mweather\u001b[0m\u001b[1;33m.\u001b[0m\u001b[0mto_csv\u001b[0m\u001b[1;33m(\u001b[0m\u001b[0moutput_data_file\u001b[0m\u001b[1;33m,\u001b[0m \u001b[0mindex\u001b[0m\u001b[1;33m=\u001b[0m\u001b[1;32mNone\u001b[0m\u001b[1;33m,\u001b[0m \u001b[0mheader\u001b[0m\u001b[1;33m=\u001b[0m\u001b[1;32mTrue\u001b[0m\u001b[1;33m)\u001b[0m\u001b[1;33m\u001b[0m\u001b[1;33m\u001b[0m\u001b[0m\n\u001b[0m\u001b[0;32m      8\u001b[0m \u001b[0mweather\u001b[0m\u001b[1;33m.\u001b[0m\u001b[0mhead\u001b[0m\u001b[1;33m(\u001b[0m\u001b[1;33m)\u001b[0m\u001b[1;33m\u001b[0m\u001b[1;33m\u001b[0m\u001b[0m\n",
      "\u001b[1;32m~\\anaconda3\\lib\\site-packages\\pandas\\core\\generic.py\u001b[0m in \u001b[0;36mto_csv\u001b[1;34m(self, path_or_buf, sep, na_rep, float_format, columns, header, index, index_label, mode, encoding, compression, quoting, quotechar, line_terminator, chunksize, date_format, doublequote, escapechar, decimal, errors)\u001b[0m\n\u001b[0;32m   3168\u001b[0m             \u001b[0mdecimal\u001b[0m\u001b[1;33m=\u001b[0m\u001b[0mdecimal\u001b[0m\u001b[1;33m,\u001b[0m\u001b[1;33m\u001b[0m\u001b[1;33m\u001b[0m\u001b[0m\n\u001b[0;32m   3169\u001b[0m         )\n\u001b[1;32m-> 3170\u001b[1;33m         \u001b[0mformatter\u001b[0m\u001b[1;33m.\u001b[0m\u001b[0msave\u001b[0m\u001b[1;33m(\u001b[0m\u001b[1;33m)\u001b[0m\u001b[1;33m\u001b[0m\u001b[1;33m\u001b[0m\u001b[0m\n\u001b[0m\u001b[0;32m   3171\u001b[0m \u001b[1;33m\u001b[0m\u001b[0m\n\u001b[0;32m   3172\u001b[0m         \u001b[1;32mif\u001b[0m \u001b[0mpath_or_buf\u001b[0m \u001b[1;32mis\u001b[0m \u001b[1;32mNone\u001b[0m\u001b[1;33m:\u001b[0m\u001b[1;33m\u001b[0m\u001b[1;33m\u001b[0m\u001b[0m\n",
      "\u001b[1;32m~\\anaconda3\\lib\\site-packages\\pandas\\io\\formats\\csvs.py\u001b[0m in \u001b[0;36msave\u001b[1;34m(self)\u001b[0m\n\u001b[0;32m    183\u001b[0m             \u001b[0mclose\u001b[0m \u001b[1;33m=\u001b[0m \u001b[1;32mFalse\u001b[0m\u001b[1;33m\u001b[0m\u001b[1;33m\u001b[0m\u001b[0m\n\u001b[0;32m    184\u001b[0m         \u001b[1;32melse\u001b[0m\u001b[1;33m:\u001b[0m\u001b[1;33m\u001b[0m\u001b[1;33m\u001b[0m\u001b[0m\n\u001b[1;32m--> 185\u001b[1;33m             f, handles = get_handle(\n\u001b[0m\u001b[0;32m    186\u001b[0m                 \u001b[0mself\u001b[0m\u001b[1;33m.\u001b[0m\u001b[0mpath_or_buf\u001b[0m\u001b[1;33m,\u001b[0m\u001b[1;33m\u001b[0m\u001b[1;33m\u001b[0m\u001b[0m\n\u001b[0;32m    187\u001b[0m                 \u001b[0mself\u001b[0m\u001b[1;33m.\u001b[0m\u001b[0mmode\u001b[0m\u001b[1;33m,\u001b[0m\u001b[1;33m\u001b[0m\u001b[1;33m\u001b[0m\u001b[0m\n",
      "\u001b[1;32m~\\anaconda3\\lib\\site-packages\\pandas\\io\\common.py\u001b[0m in \u001b[0;36mget_handle\u001b[1;34m(path_or_buf, mode, encoding, compression, memory_map, is_text, errors)\u001b[0m\n\u001b[0;32m    491\u001b[0m         \u001b[1;32mif\u001b[0m \u001b[0mencoding\u001b[0m\u001b[1;33m:\u001b[0m\u001b[1;33m\u001b[0m\u001b[1;33m\u001b[0m\u001b[0m\n\u001b[0;32m    492\u001b[0m             \u001b[1;31m# Encoding\u001b[0m\u001b[1;33m\u001b[0m\u001b[1;33m\u001b[0m\u001b[1;33m\u001b[0m\u001b[0m\n\u001b[1;32m--> 493\u001b[1;33m             \u001b[0mf\u001b[0m \u001b[1;33m=\u001b[0m \u001b[0mopen\u001b[0m\u001b[1;33m(\u001b[0m\u001b[0mpath_or_buf\u001b[0m\u001b[1;33m,\u001b[0m \u001b[0mmode\u001b[0m\u001b[1;33m,\u001b[0m \u001b[0mencoding\u001b[0m\u001b[1;33m=\u001b[0m\u001b[0mencoding\u001b[0m\u001b[1;33m,\u001b[0m \u001b[0merrors\u001b[0m\u001b[1;33m=\u001b[0m\u001b[0merrors\u001b[0m\u001b[1;33m,\u001b[0m \u001b[0mnewline\u001b[0m\u001b[1;33m=\u001b[0m\u001b[1;34m\"\"\u001b[0m\u001b[1;33m)\u001b[0m\u001b[1;33m\u001b[0m\u001b[1;33m\u001b[0m\u001b[0m\n\u001b[0m\u001b[0;32m    494\u001b[0m         \u001b[1;32melif\u001b[0m \u001b[0mis_text\u001b[0m\u001b[1;33m:\u001b[0m\u001b[1;33m\u001b[0m\u001b[1;33m\u001b[0m\u001b[0m\n\u001b[0;32m    495\u001b[0m             \u001b[1;31m# No explicit encoding\u001b[0m\u001b[1;33m\u001b[0m\u001b[1;33m\u001b[0m\u001b[1;33m\u001b[0m\u001b[0m\n",
      "\u001b[1;31mFileNotFoundError\u001b[0m: [Errno 2] No such file or directory: 'output_data/cities.csv'"
     ]
    }
   ],
   "source": [
    "#Dictionary for weather data\n",
    "data = {\"city\": cities_list, \"cloudiness\":cloudiness, \"country\": country, \"dates\": dates, \"humidity\":humidity, \"latitude\": latitude, \"longitude\": longitude, \"Temperature\": temperature, \"windspeed\": windspeed\n",
    "       }\n",
    "#dictionary to dataframe\n",
    "\n",
    "weather = pd.DataFrame(data)\n",
    "weather.to_csv(output_data_file, index=None, header=True)\n",
    "weather.head()"
   ]
  },
  {
   "cell_type": "markdown",
   "metadata": {},
   "source": [
    "# ScatterPlots\n"
   ]
  },
  {
   "cell_type": "code",
   "execution_count": null,
   "metadata": {},
   "outputs": [],
   "source": [
    "#Temperature (F) vs. Latitude\n",
    "plt.scatter(weather[\"latitude\"], weather[\"temperature\"], c=\"red\")\n",
    "plt.xlabel(\"latitude\")\n",
    "plt.ylabel(\"temperature (F)\")\n",
    "plt.title( \"Latitude vs Temperature\")\n",
    "plt.show()\n",
    "\n"
   ]
  },
  {
   "cell_type": "code",
   "execution_count": null,
   "metadata": {},
   "outputs": [],
   "source": [
    "#Humidity (%) vs. Latitude\n",
    "plt.scatter(weather[\"latitude\"], weather[\"humidity\"], c=\"blue\")\n",
    "plt.xlabel(\"latitude\")\n",
    "plt.ylabel(\"humidity\")\n",
    "plt.title( \"Latitude vs Humidity\")\n",
    "plt.show()\n"
   ]
  },
  {
   "cell_type": "code",
   "execution_count": null,
   "metadata": {},
   "outputs": [],
   "source": [
    "#Cloudiness (%) vs. Latitude\n",
    "\n",
    "plt.scatter(weather[\"latitude\"], weather[\"cloudiness\"], c=\"orange\")\n",
    "plt.xlabel(\"latitude\")\n",
    "plt.ylabel(\"cloudiness\")\n",
    "plt.title( \"Latitude vs Cloudiness\")\n",
    "plt.show()"
   ]
  },
  {
   "cell_type": "code",
   "execution_count": null,
   "metadata": {},
   "outputs": [],
   "source": [
    "#Wind Speed (mph) vs. Latitude\n",
    "\n",
    "plt.scatter(weather[\"latitude\"], weather[\"wind\"], c=\"purple\")\n",
    "plt.xlabel(\"latitude\")\n",
    "plt.ylabel(\"wind\")\n",
    "plt.title( \"Latitude vs Wind\")\n",
    "plt.show()"
   ]
  },
  {
   "cell_type": "markdown",
   "metadata": {},
   "source": [
    "# Linear Regression"
   ]
  },
  {
   "cell_type": "code",
   "execution_count": null,
   "metadata": {},
   "outputs": [],
   "source": [
    "#Northern Hemisphere - Temperature (F) vs. Latitude"
   ]
  },
  {
   "cell_type": "code",
   "execution_count": null,
   "metadata": {},
   "outputs": [],
   "source": [
    "#Southern Hemisphere - Temperature (F) vs. Latitude"
   ]
  },
  {
   "cell_type": "code",
   "execution_count": null,
   "metadata": {},
   "outputs": [],
   "source": [
    "#Northern Hemisphere - Humidity (%) vs. Latitude"
   ]
  },
  {
   "cell_type": "code",
   "execution_count": null,
   "metadata": {},
   "outputs": [],
   "source": [
    "#Southern Hemisphere - Humidity (%) vs. Latitude"
   ]
  },
  {
   "cell_type": "code",
   "execution_count": null,
   "metadata": {},
   "outputs": [],
   "source": [
    "#Northern Hemisphere - Cloudiness (%) vs. Latitude"
   ]
  },
  {
   "cell_type": "code",
   "execution_count": null,
   "metadata": {},
   "outputs": [],
   "source": [
    "#Southern Hemisphere - Cloudiness (%) vs. Latitude"
   ]
  },
  {
   "cell_type": "code",
   "execution_count": null,
   "metadata": {},
   "outputs": [],
   "source": [
    "#Northern Hemisphere - Wind Speed (mph) vs. Latitude"
   ]
  },
  {
   "cell_type": "code",
   "execution_count": null,
   "metadata": {},
   "outputs": [],
   "source": [
    "#Southern Hemisphere - Wind Speed (mph) vs. Latitude"
   ]
  },
  {
   "cell_type": "code",
   "execution_count": null,
   "metadata": {},
   "outputs": [],
   "source": []
  }
 ],
 "metadata": {
  "kernelspec": {
   "display_name": "Python 3",
   "language": "python",
   "name": "python3"
  },
  "language_info": {
   "codemirror_mode": {
    "name": "ipython",
    "version": 3
   },
   "file_extension": ".py",
   "mimetype": "text/x-python",
   "name": "python",
   "nbconvert_exporter": "python",
   "pygments_lexer": "ipython3",
   "version": "3.8.5"
  }
 },
 "nbformat": 4,
 "nbformat_minor": 4
}
