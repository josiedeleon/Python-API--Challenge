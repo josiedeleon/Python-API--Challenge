{
 "cells": [
  {
   "cell_type": "markdown",
   "metadata": {},
   "source": [
    "# WeatherPy\n"
   ]
  },
  {
   "cell_type": "code",
   "execution_count": 1,
   "metadata": {},
   "outputs": [],
   "source": [
    "#Observations\n",
    "#1.\n",
    "#2.\n",
    "#3."
   ]
  },
  {
   "cell_type": "code",
   "execution_count": 2,
   "metadata": {},
   "outputs": [
    {
     "name": "stdout",
     "output_type": "stream",
     "text": [
      "Requirement already satisfied: citipy in c:\\users\\jocel\\anaconda3\\lib\\site-packages (0.0.5)\n",
      "Requirement already satisfied: kdtree>=0.12 in c:\\users\\jocel\\anaconda3\\lib\\site-packages (from citipy) (0.16)\n",
      "Note: you may need to restart the kernel to use updated packages.\n"
     ]
    }
   ],
   "source": [
    "pip install citipy"
   ]
  },
  {
   "cell_type": "code",
   "execution_count": 44,
   "metadata": {},
   "outputs": [],
   "source": [
    "#Dependencies\n",
    "import pandas as pd\n",
    "import matplotlib.pyplot as plt\n",
    "import numpy as np\n",
    "import requests\n",
    "import time\n",
    "from scipy.stats import linregress\n",
    "\n",
    "#Import API key\n",
    "from Config import api_key\n",
    "\n",
    "#incorporate citipy to determine city based on latitude and longitude\n",
    "from citipy import citipy\n",
    "\n",
    "#Outout csv file\n",
    "output_data_file = \"output_data/cities.csv\"\n",
    "\n",
    "# Range of latitudes and longitudes\n",
    "lat_range = (-90, 90)\n",
    "long_range = (-180, 180)"
   ]
  },
  {
   "cell_type": "markdown",
   "metadata": {},
   "source": [
    "# List of Cities"
   ]
  },
  {
   "cell_type": "code",
   "execution_count": 4,
   "metadata": {},
   "outputs": [
    {
     "data": {
      "text/plain": [
       "300"
      ]
     },
     "execution_count": 4,
     "metadata": {},
     "output_type": "execute_result"
    }
   ],
   "source": [
    " # List for holding lat_lngs and cities, n is how many cities to generate\n",
    "\n",
    "lat_longs = []\n",
    "cities = []\n",
    "\n",
    "# Create a set of random lat and lng combinations\n",
    "lat = np.random.uniform(low= -90, high= 90, size=600)\n",
    "long = np.random.uniform(low= -90, high= 90, size=600)\n",
    "lat_longs = zip(lat,long)\n",
    "\n",
    "# Identify nearest city for each lat, lng combination\n",
    "for lat_long in lat_longs:\n",
    "    city = citipy.nearest_city(lat_long[0], lat_long[1]).city_name\n",
    "    \n",
    "    # If the city is unique, then add it to a our cities list\n",
    "    if city not in cities:\n",
    "        cities.append(city)\n",
    "\n",
    "# Print the city count to confirm sufficient count\n",
    "len(cities)"
   ]
  },
  {
   "cell_type": "code",
   "execution_count": 5,
   "metadata": {},
   "outputs": [],
   "source": [
    "# Create base URL and indicate imperial units\n",
    "\n",
    "url = \"http://api.openweathermap.org/data/2.5/weather?units=Imperial&APPID=\"+api_key+\"&q=\"\n",
    "units = \"imperial\""
   ]
  },
  {
   "cell_type": "code",
   "execution_count": 6,
   "metadata": {},
   "outputs": [],
   "source": [
    "# Build partial query URL\n",
    "#query = f\"{url}appid={api_key}&units={units}&q=\""
   ]
  },
  {
   "cell_type": "code",
   "execution_count": 7,
   "metadata": {},
   "outputs": [],
   "source": [
    "#values to extract\n",
    "\n",
    "cities_list = []\n",
    "country = []\n",
    "latitude = []\n",
    "longitude = []\n",
    "temperature = []\n",
    "humidity = []\n",
    "cloudiness = []\n",
    "windspeed = []\n",
    "dates = []\n"
   ]
  },
  {
   "cell_type": "code",
   "execution_count": 8,
   "metadata": {
    "scrolled": false
   },
   "outputs": [
    {
     "name": "stdout",
     "output_type": "stream",
     "text": [
      "City not found\n",
      "dingle\n",
      "busselton\n",
      "bengkulu\n",
      "salalah\n",
      "City not found\n",
      "saint-philippe\n",
      "City not found\n",
      "saint george\n",
      "bredasdorp\n",
      "tignere\n",
      "sao joao da barra\n",
      "City not found\n",
      "georgetown\n",
      "abu kamal\n",
      "port alfred\n",
      "morondava\n",
      "alexandria\n",
      "sorland\n",
      "kruisfontein\n",
      "hermanus\n",
      "sioux lookout\n",
      "cape town\n",
      "benicarlo\n",
      "sakakah\n",
      "City not found\n",
      "lebu\n",
      "ushuaia\n",
      "bubaque\n",
      "uige\n",
      "coxim\n",
      "port-gentil\n",
      "chicama\n",
      "ancud\n",
      "nizhnyaya salda\n",
      "aripuana\n",
      "uribia\n",
      "longyearbyen\n",
      "luderitz\n",
      "mar del plata\n",
      "kidal\n",
      "carauari\n",
      "nador\n",
      "faya\n",
      "manjacaze\n",
      "liwale\n",
      "dikson\n",
      "cidreira\n",
      "miraflores\n",
      "qaanaaq\n",
      "puerto carreno\n",
      "san cristobal\n",
      "lagunas\n",
      "mikkeli\n",
      "ponta do sol\n",
      "port elizabeth\n",
      "ostersund\n",
      "trapani\n",
      "salinopolis\n",
      "souillac\n",
      "City not found\n",
      "punta arenas\n",
      "lakshettipet\n",
      "viedma\n",
      "ndele\n",
      "City not found\n",
      "olafsvik\n",
      "tarko-sale\n",
      "cayenne\n",
      "turukhansk\n",
      "newport\n",
      "abu dhabi\n",
      "torbay\n",
      "ilulissat\n",
      "City not found\n",
      "antofagasta\n",
      "vardo\n",
      "east london\n",
      "alcaniz\n",
      "oranjemund\n",
      "City not found\n",
      "contamana\n",
      "touros\n",
      "potsdam\n",
      "tasiilaq\n",
      "City not found\n",
      "kutum\n",
      "kikwit\n",
      "novyy urengoy\n",
      "adrar\n",
      "nampula\n",
      "snezhnogorsk\n",
      "palmerston\n",
      "qaqortoq\n",
      "klaksvik\n",
      "kavaratti\n",
      "radnevo\n",
      "ostrovnoy\n",
      "jamestown\n",
      "City not found\n",
      "diffa\n",
      "emba\n",
      "muros\n",
      "kirkland lake\n",
      "atar\n",
      "kanye\n",
      "boromo\n",
      "domoni\n",
      "bambous virieux\n",
      "betsiamites\n",
      "hualmay\n",
      "tomino\n",
      "nueva italia\n",
      "ribeira grande\n",
      "City not found\n",
      "mehran\n",
      "bathsheba\n",
      "nuuk\n",
      "vieksniai\n",
      "ozieri\n",
      "mancio lima\n",
      "mga\n",
      "bandar-e lengeh\n",
      "grand-lahou\n",
      "sidi ali\n",
      "City not found\n",
      "hithadhoo\n",
      "sorgun\n",
      "mogadishu\n",
      "saint-francois\n",
      "saldanha\n",
      "lieksa\n",
      "mazagao\n",
      "bambui\n",
      "belmonte\n",
      "ventspils\n",
      "saint-pierre\n",
      "raga\n",
      "lagoa\n",
      "khanpur\n",
      "ilhabela\n",
      "rabo de peixe\n",
      "berbera\n",
      "uyemskiy\n",
      "armacao de pera\n",
      "City not found\n",
      "karpathos\n",
      "taoudenni\n",
      "mopipi\n",
      "narsaq\n",
      "grand gaube\n",
      "vestmannaeyjar\n",
      "nanortalik\n",
      "avila\n",
      "brockville\n",
      "praia da vitoria\n",
      "kamenka\n",
      "denia\n",
      "badlapur\n",
      "taraz\n",
      "mottola\n",
      "chuy\n",
      "itarema\n",
      "richards bay\n",
      "chama\n",
      "riohacha\n",
      "sayyan\n",
      "jaguaribe\n",
      "bol\n",
      "korla\n",
      "port hawkesbury\n",
      "santa maria\n",
      "coquimbo\n",
      "bay roberts\n",
      "hambantota\n",
      "City not found\n",
      "arraial do cabo\n",
      "gasa\n",
      "patnagarh\n",
      "meulaboh\n",
      "makokou\n",
      "City not found\n",
      "clyde river\n",
      "zonguldak\n",
      "mweka\n",
      "nouakchott\n",
      "hamilton\n",
      "krasnyy luch\n",
      "cockburn town\n",
      "ondjiva\n",
      "victoria\n",
      "santa fe\n",
      "odweyne\n",
      "bonfim\n",
      "saint anthony\n",
      "novi troyany\n",
      "talara\n",
      "hofn\n",
      "yurimaguas\n",
      "tukrah\n",
      "temiscaming\n",
      "maragogi\n",
      "luanda\n",
      "rio grande\n",
      "necochea\n",
      "saint-joseph\n",
      "monze\n",
      "grindavik\n",
      "kano\n",
      "antigonish\n",
      "robe\n",
      "City not found\n",
      "andenes\n",
      "barcelos\n",
      "maldonado\n",
      "sao felix do xingu\n",
      "margate\n",
      "varkkallai\n",
      "paamiut\n",
      "ladario\n",
      "inndyr\n",
      "geilo\n",
      "carhuaz\n",
      "atraulia\n",
      "rognan\n",
      "kamalapuram\n",
      "mitsamiouli\n",
      "jumla\n",
      "izberbash\n",
      "rawson\n",
      "mattawa\n",
      "constitucion\n",
      "City not found\n",
      "matara\n",
      "havelock\n",
      "City not found\n",
      "City not found\n",
      "kigoma\n",
      "guia de isora\n",
      "umm lajj\n",
      "san joaquin\n",
      "kelme\n",
      "bereda\n",
      "madurai\n",
      "boende\n",
      "tazmalt\n",
      "chinchani\n",
      "rajur\n",
      "alekseyevka\n",
      "puri\n",
      "bandipur\n",
      "cabo rojo\n",
      "City not found\n",
      "vila franca do campo\n",
      "bardiyah\n",
      "sao jose da coroa grande\n",
      "priekule\n",
      "vuktyl\n",
      "tobol\n",
      "oranjestad\n",
      "gazanjyk\n",
      "tiruchchendur\n",
      "varhaug\n",
      "los llanos de aridane\n",
      "caravelas\n",
      "suluq\n",
      "City not found\n",
      "lake city\n",
      "mecca\n",
      "beloha\n",
      "sao filipe\n",
      "sur\n",
      "doha\n",
      "chapais\n",
      "makhalino\n",
      "sunndalsora\n",
      "jalu\n",
      "husavik\n",
      "nalagarh\n",
      "hit\n",
      "liepaja\n",
      "chabahar\n",
      "City not found\n",
      "kostomuksha\n",
      "pitimbu\n",
      "bosaso\n",
      "feijo\n",
      "raudeberg\n",
      "upernavik\n",
      "valdosta\n",
      "presidencia roque saenz pena\n",
      "codrington\n",
      "pavlodar\n",
      "City not found\n",
      "santa rosa\n",
      "jizan\n",
      "thinadhoo\n",
      "eufaula\n",
      "rundu\n",
      "dalbandin\n",
      "\n"
     ]
    }
   ],
   "source": [
    "#Loop to get information for cities\n",
    "from Config import api_key\n",
    "\n",
    "for city in cities:\n",
    "    time.sleep(1)  \n",
    "    url_2 = url + city\n",
    "    response = requests.get(url_2).json()\n",
    "    try:\n",
    "        if response[\"message\"] == \"city not found\":\n",
    "            print(\"City not found\")\n",
    "            \n",
    "    except:\n",
    "        print(city)  \n",
    "        cities_list.append(city)\n",
    "        cloudiness.append(response[\"clouds\"][\"all\"])\n",
    "        country.append(response[\"sys\"][\"country\"])\n",
    "        dates.append(response[\"dt\"])\n",
    "        humidity.append(response[\"main\"][\"humidity\"])\n",
    "        latitude.append(response[\"coord\"][\"lat\"])\n",
    "        longitude.append(response[\"coord\"][\"lon\"])\n",
    "        temperature.append(response[\"main\"][\"temp_max\"])\n",
    "        windspeed.append(response[\"wind\"][\"speed\"])\n",
    "\n",
    "print()"
   ]
  },
  {
   "cell_type": "code",
   "execution_count": 19,
   "metadata": {},
   "outputs": [
    {
     "data": {
      "text/html": [
       "<div>\n",
       "<style scoped>\n",
       "    .dataframe tbody tr th:only-of-type {\n",
       "        vertical-align: middle;\n",
       "    }\n",
       "\n",
       "    .dataframe tbody tr th {\n",
       "        vertical-align: top;\n",
       "    }\n",
       "\n",
       "    .dataframe thead th {\n",
       "        text-align: right;\n",
       "    }\n",
       "</style>\n",
       "<table border=\"1\" class=\"dataframe\">\n",
       "  <thead>\n",
       "    <tr style=\"text-align: right;\">\n",
       "      <th></th>\n",
       "      <th>city</th>\n",
       "      <th>cloudiness</th>\n",
       "      <th>country</th>\n",
       "      <th>dates</th>\n",
       "      <th>humidity</th>\n",
       "      <th>latitude</th>\n",
       "      <th>longitude</th>\n",
       "      <th>temperature</th>\n",
       "      <th>windspeed</th>\n",
       "    </tr>\n",
       "  </thead>\n",
       "  <tbody>\n",
       "    <tr>\n",
       "      <th>0</th>\n",
       "      <td>dingle</td>\n",
       "      <td>31</td>\n",
       "      <td>PH</td>\n",
       "      <td>1619759754</td>\n",
       "      <td>39</td>\n",
       "      <td>10.9995</td>\n",
       "      <td>122.6711</td>\n",
       "      <td>92.21</td>\n",
       "      <td>7.23</td>\n",
       "    </tr>\n",
       "    <tr>\n",
       "      <th>1</th>\n",
       "      <td>busselton</td>\n",
       "      <td>45</td>\n",
       "      <td>AU</td>\n",
       "      <td>1619759755</td>\n",
       "      <td>78</td>\n",
       "      <td>-33.6500</td>\n",
       "      <td>115.3333</td>\n",
       "      <td>62.01</td>\n",
       "      <td>1.99</td>\n",
       "    </tr>\n",
       "    <tr>\n",
       "      <th>2</th>\n",
       "      <td>bengkulu</td>\n",
       "      <td>98</td>\n",
       "      <td>ID</td>\n",
       "      <td>1619759757</td>\n",
       "      <td>78</td>\n",
       "      <td>-3.8004</td>\n",
       "      <td>102.2655</td>\n",
       "      <td>81.64</td>\n",
       "      <td>5.66</td>\n",
       "    </tr>\n",
       "    <tr>\n",
       "      <th>3</th>\n",
       "      <td>salalah</td>\n",
       "      <td>40</td>\n",
       "      <td>OM</td>\n",
       "      <td>1619759362</td>\n",
       "      <td>74</td>\n",
       "      <td>17.0151</td>\n",
       "      <td>54.0924</td>\n",
       "      <td>86.00</td>\n",
       "      <td>10.36</td>\n",
       "    </tr>\n",
       "    <tr>\n",
       "      <th>4</th>\n",
       "      <td>saint-philippe</td>\n",
       "      <td>0</td>\n",
       "      <td>RE</td>\n",
       "      <td>1619759761</td>\n",
       "      <td>74</td>\n",
       "      <td>-21.3585</td>\n",
       "      <td>55.7679</td>\n",
       "      <td>80.60</td>\n",
       "      <td>20.71</td>\n",
       "    </tr>\n",
       "    <tr>\n",
       "      <th>5</th>\n",
       "      <td>saint george</td>\n",
       "      <td>1</td>\n",
       "      <td>US</td>\n",
       "      <td>1619759764</td>\n",
       "      <td>18</td>\n",
       "      <td>37.1041</td>\n",
       "      <td>-113.5841</td>\n",
       "      <td>73.99</td>\n",
       "      <td>4.61</td>\n",
       "    </tr>\n",
       "    <tr>\n",
       "      <th>6</th>\n",
       "      <td>bredasdorp</td>\n",
       "      <td>5</td>\n",
       "      <td>ZA</td>\n",
       "      <td>1619759766</td>\n",
       "      <td>87</td>\n",
       "      <td>-34.5322</td>\n",
       "      <td>20.0403</td>\n",
       "      <td>50.00</td>\n",
       "      <td>5.75</td>\n",
       "    </tr>\n",
       "    <tr>\n",
       "      <th>7</th>\n",
       "      <td>tignere</td>\n",
       "      <td>95</td>\n",
       "      <td>CM</td>\n",
       "      <td>1619759768</td>\n",
       "      <td>69</td>\n",
       "      <td>7.3667</td>\n",
       "      <td>12.6500</td>\n",
       "      <td>65.82</td>\n",
       "      <td>2.62</td>\n",
       "    </tr>\n",
       "    <tr>\n",
       "      <th>8</th>\n",
       "      <td>sao joao da barra</td>\n",
       "      <td>56</td>\n",
       "      <td>BR</td>\n",
       "      <td>1619759769</td>\n",
       "      <td>87</td>\n",
       "      <td>-21.6403</td>\n",
       "      <td>-41.0511</td>\n",
       "      <td>66.58</td>\n",
       "      <td>12.03</td>\n",
       "    </tr>\n",
       "    <tr>\n",
       "      <th>9</th>\n",
       "      <td>georgetown</td>\n",
       "      <td>20</td>\n",
       "      <td>MY</td>\n",
       "      <td>1619759484</td>\n",
       "      <td>70</td>\n",
       "      <td>5.4112</td>\n",
       "      <td>100.3354</td>\n",
       "      <td>87.80</td>\n",
       "      <td>4.61</td>\n",
       "    </tr>\n",
       "  </tbody>\n",
       "</table>\n",
       "</div>"
      ],
      "text/plain": [
       "                city  cloudiness country       dates  humidity  latitude  \\\n",
       "0             dingle          31      PH  1619759754        39   10.9995   \n",
       "1          busselton          45      AU  1619759755        78  -33.6500   \n",
       "2           bengkulu          98      ID  1619759757        78   -3.8004   \n",
       "3            salalah          40      OM  1619759362        74   17.0151   \n",
       "4     saint-philippe           0      RE  1619759761        74  -21.3585   \n",
       "5       saint george           1      US  1619759764        18   37.1041   \n",
       "6         bredasdorp           5      ZA  1619759766        87  -34.5322   \n",
       "7            tignere          95      CM  1619759768        69    7.3667   \n",
       "8  sao joao da barra          56      BR  1619759769        87  -21.6403   \n",
       "9         georgetown          20      MY  1619759484        70    5.4112   \n",
       "\n",
       "   longitude  temperature  windspeed  \n",
       "0   122.6711        92.21       7.23  \n",
       "1   115.3333        62.01       1.99  \n",
       "2   102.2655        81.64       5.66  \n",
       "3    54.0924        86.00      10.36  \n",
       "4    55.7679        80.60      20.71  \n",
       "5  -113.5841        73.99       4.61  \n",
       "6    20.0403        50.00       5.75  \n",
       "7    12.6500        65.82       2.62  \n",
       "8   -41.0511        66.58      12.03  \n",
       "9   100.3354        87.80       4.61  "
      ]
     },
     "execution_count": 19,
     "metadata": {},
     "output_type": "execute_result"
    }
   ],
   "source": [
    "#Dictionary for weather data\n",
    "data = {\"city\": cities_list, \"cloudiness\":cloudiness, \"country\": country, \"dates\": dates, \"humidity\":humidity, \"latitude\": latitude, \"longitude\": longitude, \"temperature\": temperature, \"windspeed\": windspeed\n",
    "       }\n",
    "#dictionary to dataframe\n",
    "\n",
    "weather = pd.DataFrame(data)\n",
    "weather.to_csv(output_data_file, index=None, header=True)\n",
    "weather.head(10)"
   ]
  },
  {
   "cell_type": "markdown",
   "metadata": {},
   "source": [
    "# ScatterPlots\n"
   ]
  },
  {
   "cell_type": "code",
   "execution_count": 28,
   "metadata": {},
   "outputs": [
    {
     "data": {
      "image/png": "[encoded data removed]",
      "text/plain": [
       "<Figure size 432x288 with 1 Axes>"
      ]
     },
     "metadata": {
      "needs_background": "light"
     },
     "output_type": "display_data"
    }
   ],
   "source": [
    "#Temperature (F) vs. Latitude\n",
    "plt.scatter(weather[\"latitude\"], weather[\"temperature\"], c=\"red\")\n",
    "plt.xlabel(\"latitude\")\n",
    "plt.ylabel(\"temperature (F)\")\n",
    "plt.title( \"Latitude vs Temperature\")\n",
    "plt.savefig(\"output_data/temp.png\")\n",
    "plt.show()\n",
    "\n"
   ]
  },
  {
   "cell_type": "code",
   "execution_count": 29,
   "metadata": {},
   "outputs": [
    {
     "data": {
      "image/png": "[encoded data removed]",
      "text/plain": [
       "<Figure size 432x288 with 1 Axes>"
      ]
     },
     "metadata": {
      "needs_background": "light"
     },
     "output_type": "display_data"
    }
   ],
   "source": [
    "#Humidity (%) vs. Latitude\n",
    "plt.scatter(weather[\"latitude\"], weather[\"humidity\"], c=\"blue\")\n",
    "plt.xlabel(\"latitude\")\n",
    "plt.ylabel(\"humidity\")\n",
    "plt.title( \"Latitude vs Humidity\")\n",
    "plt.savefig(\"output_data/humid.png\")\n",
    "plt.show()\n"
   ]
  },
  {
   "cell_type": "code",
   "execution_count": 30,
   "metadata": {},
   "outputs": [
    {
     "data": {
      "image/png": "[encoded data removed]",
      "text/plain": [
       "<Figure size 432x288 with 1 Axes>"
      ]
     },
     "metadata": {
      "needs_background": "light"
     },
     "output_type": "display_data"
    }
   ],
   "source": [
    "#Cloudiness (%) vs. Latitude\n",
    "\n",
    "plt.scatter(weather[\"latitude\"], weather[\"cloudiness\"], c=\"orange\")\n",
    "plt.xlabel(\"latitude\")\n",
    "plt.ylabel(\"cloudiness\")\n",
    "plt.title( \"Latitude vs Cloudiness\")\n",
    "plt.savefig(\"output_data/cloud.png\")\n",
    "plt.show()"
   ]
  },
  {
   "cell_type": "code",
   "execution_count": 31,
   "metadata": {},
   "outputs": [
    {
     "data": {
      "image/png": "[encoded data removed]",
      "text/plain": [
       "<Figure size 432x288 with 1 Axes>"
      ]
     },
     "metadata": {
      "needs_background": "light"
     },
     "output_type": "display_data"
    }
   ],
   "source": [
    "#Wind Speed (mph) vs. Latitude\n",
    "\n",
    "plt.scatter(weather[\"latitude\"], weather[\"windspeed\"], c=\"purple\")\n",
    "plt.xlabel(\"latitude\")\n",
    "plt.ylabel(\"windspeed\")\n",
    "plt.title( \"Latitude vs Windspeed\")\n",
    "plt.savefig(\"output_data/Wind.png\")\n",
    "plt.show()\n"
   ]
  },
  {
   "cell_type": "markdown",
   "metadata": {},
   "source": [
    "# Linear Regression"
   ]
  },
  {
   "cell_type": "code",
   "execution_count": 59,
   "metadata": {},
   "outputs": [
    {
     "name": "stdout",
     "output_type": "stream",
     "text": [
      "The correlation between latitude and temperature is -0.87\n"
     ]
    },
    {
     "data": {
      "image/png": "[encoded data removed]",
      "text/plain": [
       "<Figure size 432x288 with 1 Axes>"
      ]
     },
     "metadata": {
      "needs_background": "light"
     },
     "output_type": "display_data"
    }
   ],
   "source": [
    "#Northern Hemisphere - Temperature (F) vs. Latitude\n",
    "import scipy.stats as st\n",
    "north_hemisphere = weather.loc[weather[\"latitude\"] >= 0]\n",
    "south_hemisphere = weather.loc[weather[\"latitude\"] < 0]\n",
    "    \n",
    "correlation = round(st.pearsonr(north_hemisphere[\"latitude\"], north_hemisphere[\"temperature\"])[0],2)\n",
    "print(f\"The correlation between latitude and temperature is {correlation}\")\n",
    "graph = st.linregress(north_hemisphere[\"latitude\"], north_hemisphere[\"temperature\"])\n",
    "y_values = north_hemisphere[\"temperature\"]*graph[0]+graph[1]\n",
    "\n",
    "plt.scatter(north_hemisphere[\"latitude\"],north_hemisphere[\"temperature\"])\n",
    "plt.plot(north_hemisphere[\"temperature\"],y_values,color='orange')\n",
    "plt.xlabel(\"latitude\")\n",
    "plt.ylabel(\"temperature\")\n",
    "plt.title(\"North Hemisphere Temperature vs Latitude\")\n",
    "plt.tight_layout()"
   ]
  },
  {
   "cell_type": "code",
   "execution_count": null,
   "metadata": {},
   "outputs": [],
   "source": []
  },
  {
   "cell_type": "code",
   "execution_count": null,
   "metadata": {},
   "outputs": [],
   "source": [
    "#Southern Hemisphere - Temperature (F) vs. Latitude"
   ]
  },
  {
   "cell_type": "code",
   "execution_count": null,
   "metadata": {},
   "outputs": [],
   "source": [
    "#Northern Hemisphere - Humidity (%) vs. Latitude"
   ]
  },
  {
   "cell_type": "code",
   "execution_count": null,
   "metadata": {},
   "outputs": [],
   "source": [
    "#Southern Hemisphere - Humidity (%) vs. Latitude"
   ]
  },
  {
   "cell_type": "code",
   "execution_count": null,
   "metadata": {},
   "outputs": [],
   "source": [
    "#Northern Hemisphere - Cloudiness (%) vs. Latitude"
   ]
  },
  {
   "cell_type": "code",
   "execution_count": null,
   "metadata": {},
   "outputs": [],
   "source": [
    "#Southern Hemisphere - Cloudiness (%) vs. Latitude"
   ]
  },
  {
   "cell_type": "code",
   "execution_count": null,
   "metadata": {},
   "outputs": [],
   "source": [
    "#Northern Hemisphere - Wind Speed (mph) vs. Latitude"
   ]
  },
  {
   "cell_type": "code",
   "execution_count": null,
   "metadata": {},
   "outputs": [],
   "source": [
    "#Southern Hemisphere - Wind Speed (mph) vs. Latitude"
   ]
  },
  {
   "cell_type": "code",
   "execution_count": null,
   "metadata": {},
   "outputs": [],
   "source": []
  }
 ],
 "metadata": {
  "kernelspec": {
   "display_name": "Python 3",
   "language": "python",
   "name": "python3"
  },
  "language_info": {
   "codemirror_mode": {
    "name": "ipython",
    "version": 3
   },
   "file_extension": ".py",
   "mimetype": "text/x-python",
   "name": "python",
   "nbconvert_exporter": "python",
   "pygments_lexer": "ipython3",
   "version": "3.8.5"
  }
 },
 "nbformat": 4,
 "nbformat_minor": 4
}
